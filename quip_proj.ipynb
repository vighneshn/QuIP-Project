{
  "nbformat": 4,
  "nbformat_minor": 0,
  "metadata": {
    "colab": {
      "name": "quip_proj.ipynb",
      "provenance": []
    },
    "kernelspec": {
      "name": "python3",
      "display_name": "Python 3"
    }
  },
  "cells": [
    {
      "cell_type": "code",
      "metadata": {
        "id": "enbSLV0cpZ1o"
      },
      "source": [
        "import numpy as np"
      ],
      "execution_count": 1,
      "outputs": []
    },
    {
      "cell_type": "code",
      "metadata": {
        "id": "0qf7XFrL94h7"
      },
      "source": [
        "Nqub = 2\n",
        "AdjMatrixGraph = [[0,1],[1,0]]\n",
        "#Nqub = 3\n",
        "#AdjMatrixGraph = [[0,1,1],[1,0,1],[1,1,0]]\n",
        "\n",
        "string = 'IXYAB' #A is XY, B is YY\n",
        "if Nqub > 3 and Nqub < 6:\n",
        "  string = string+'CD'#C for second XY, D for second YY\n",
        "if Nqub >= 6:\n",
        "  string = string+'EF'#E for third XY, F for third YY"
      ],
      "execution_count": 77,
      "outputs": []
    },
    {
      "cell_type": "code",
      "metadata": {
        "id": "C1Sg8xPg94Zz",
        "outputId": "e875dd9f-3e5a-45fa-fce2-509364edd1d2",
        "colab": {
          "base_uri": "https://localhost:8080/"
        }
      },
      "source": [
        "def toString(List): \n",
        "    return ''.join(List) \n",
        "\n",
        "arr = []\n",
        "def allLexicographicRecur (string, data, last, index): \n",
        "    length = len(string) \n",
        "    for i in range(length): \n",
        "        data[index] = string[i] \n",
        "        if index==last: \n",
        "            arr.append(toString(data))\n",
        "        else: \n",
        "            allLexicographicRecur(string, data, last, index+1) \n",
        "  \n",
        "def allLexicographic(string, length_required): \n",
        "    length = length_required\n",
        "\n",
        "    data = [\"\"] * (length+1) \n",
        "\n",
        "    string = sorted(string) \n",
        "    allLexicographicRecur(string, data, length-1, 0)\n",
        "allLexicographic(string, Nqub) \n",
        "print(arr)\n"
      ],
      "execution_count": 78,
      "outputs": [
        {
          "output_type": "stream",
          "text": [
            "['AA', 'AB', 'AI', 'AX', 'AY', 'BA', 'BB', 'BI', 'BX', 'BY', 'IA', 'IB', 'II', 'IX', 'IY', 'XA', 'XB', 'XI', 'XX', 'XY', 'YA', 'YB', 'YI', 'YX', 'YY']\n"
          ],
          "name": "stdout"
        }
      ]
    },
    {
      "cell_type": "code",
      "metadata": {
        "id": "tkRJSs5-94RO"
      },
      "source": [
        "\n",
        "# ith entry in the string corresponds to ith qubit\n",
        "def find(s, ch):\n",
        "    return [i for i, ltr in enumerate(s) if ltr == ch]\n",
        "\n",
        "def validate_string(string, Graph):\n",
        "  # Number of As, Bs, Cs, Ds, Es, Fs are even\n",
        "  # AA, BB, ... should be between qubits that are connected in the graph\n",
        "  # CD can exist only if AB exist\n",
        "  # EF can exist only if both AB and CD exist\n",
        "  if (string.count('A') > 2) or (string.count('B') > 2) or (string.count('C') > 2) or (string.count('D') > 2) or (string.count('E') > 2) or (string.count('F') > 2):\n",
        "    return False\n",
        "  if (string.count('A')%2 != 0) or (string.count('B')%2 != 0) or (string.count('C')%2 != 0) or (string.count('D')%2 != 0) or (string.count('E')%2 != 0) or (string.count('F')%2 != 0):\n",
        "    return False\n",
        "  if ('C' in string) and ('A' not in string):\n",
        "    return False\n",
        "  if ('E' in string) and (('A' not in string) or ('C' not in string)):\n",
        "    return False\n",
        "  if ('D' in string) and ('B' not in string):\n",
        "    return False\n",
        "  if ('F' in string) and (('B' not in string) or ('D' not in string)):\n",
        "    return False\n",
        "  \n",
        "  if 'A' in string:\n",
        "    idx = find(string, 'A')\n",
        "    if Graph[idx[0]][idx[1]] != 1:\n",
        "      return False\n",
        "  if 'B' in string:\n",
        "    idx = find(string, 'B')\n",
        "    if Graph[idx[0]][idx[1]] != 1:\n",
        "      return False\n",
        "  if 'C' in string:\n",
        "    idx = find(string, 'C')\n",
        "    if Graph[idx[0]][idx[1]] != 1:\n",
        "      return False\n",
        "  if 'D' in string:\n",
        "    idx = find(string, 'D')\n",
        "    if Graph[idx[0]][idx[1]] != 1:\n",
        "      return False\n",
        "  if 'E' in string:\n",
        "    idx = find(string, 'E')\n",
        "    if Graph[idx[0]][idx[1]] != 1:\n",
        "      return False\n",
        "  if 'F' in string:\n",
        "    idx = find(string, 'F')\n",
        "    if Graph[idx[0]][idx[1]] != 1:\n",
        "      return False\n",
        "  return True"
      ],
      "execution_count": 79,
      "outputs": []
    },
    {
      "cell_type": "code",
      "metadata": {
        "id": "9Lri_rw1WiiZ",
        "outputId": "1be11c5f-3d8a-4a0e-8b8f-d994c9d556a8",
        "colab": {
          "base_uri": "https://localhost:8080/"
        }
      },
      "source": [
        "final_arr = []\n",
        "for i in arr:\n",
        "  if validate_string(i, AdjMatrixGraph):\n",
        "    final_arr.append(i)\n",
        "print(final_arr)"
      ],
      "execution_count": 80,
      "outputs": [
        {
          "output_type": "stream",
          "text": [
            "['AA', 'BB', 'II', 'IX', 'IY', 'XI', 'XX', 'XY', 'YI', 'YX', 'YY']\n"
          ],
          "name": "stdout"
        }
      ]
    },
    {
      "cell_type": "code",
      "metadata": {
        "id": "ljQ1hTtyWieS",
        "outputId": "a1c92663-14f3-48a5-f4c9-4eef7bbeec45",
        "colab": {
          "base_uri": "https://localhost:8080/"
        }
      },
      "source": [
        "# I, sigx, sigy, sigz\n",
        "arr = []\n",
        "allLexicographic('IXYZ', Nqub) \n",
        "for i in range(len(arr)):\n",
        "  arr[i] = arr[i][:Nqub]\n",
        "val = ''\n",
        "mu = [i for i in list(dict.fromkeys(arr)) if i != val]\n",
        "print((mu))\n",
        "\n",
        "arr = []\n",
        "allLexicographic('IZ', Nqub) \n",
        "for i in range(len(arr)):\n",
        "  arr[i] = arr[i][:Nqub]\n",
        "val = ''\n",
        "z_basis = [i for i in list(dict.fromkeys(arr)) if i != val]\n",
        "print((z_basis))"
      ],
      "execution_count": 81,
      "outputs": [
        {
          "output_type": "stream",
          "text": [
            "['II', 'IX', 'IY', 'IZ', 'XI', 'XX', 'XY', 'XZ', 'YI', 'YX', 'YY', 'YZ', 'ZI', 'ZX', 'ZY', 'ZZ']\n",
            "['II', 'IZ', 'ZI', 'ZZ']\n"
          ],
          "name": "stdout"
        }
      ]
    },
    {
      "cell_type": "code",
      "metadata": {
        "id": "RqC2rE0Nc0xJ"
      },
      "source": [
        "def single_qub_meas(b, mu):\n",
        "  if b=='X':\n",
        "    if (mu == 'Z'):\n",
        "      return 'Y', 1\n",
        "    elif (mu == 'Y'):\n",
        "      return 'Z', -1\n",
        "    else:\n",
        "      return b, 1\n",
        "  elif b=='Y':\n",
        "    if (mu == 'Z'):\n",
        "      return 'X', 1\n",
        "    elif (mu == 'X'):\n",
        "      return 'Z', 1\n",
        "    else:\n",
        "      return b, 1\n",
        "  elif b=='Z':\n",
        "    if (mu == 'X'):\n",
        "      return 'Y', 1\n",
        "    elif (mu == 'Y'):\n",
        "      return 'X', 1\n",
        "    else:\n",
        "      return b, 1\n",
        "  else:\n",
        "    return b, 1\n",
        "\n",
        "def two_qub_meas(b1, b2, mu):\n",
        "  if mu == 'A' or mu == 'C' or mu == 'E':\n",
        "    if (b1=='X' and b2=='X'):\n",
        "      return 'I', 'Z', -1\n",
        "    elif (b1=='Y' and b2=='Y'):\n",
        "      return 'Z', 'I', 1\n",
        "    elif (b1=='I' and b2=='I') or (b1=='Z' and b2=='Z'):\n",
        "      return b1, b2, 1\n",
        "    else:\n",
        "      return 'X', 'Y', 1\n",
        "  if mu == 'B' or mu == 'D' or mu == 'F':\n",
        "    if (b1=='X' and b2=='Y') or (b1=='Y' and b2=='X'):\n",
        "      return 'I', 'Z', -1\n",
        "    elif (b1=='I' and b2=='I') or (b1=='Z' and b2=='Z'):\n",
        "      return b1, b2, 1\n",
        "    else:\n",
        "      return 'X', 'Y', 1\n",
        "\n",
        "def value(strB, strMu):\n",
        "  out = ''\n",
        "  sign = 1\n",
        "  if ('A' in strB):\n",
        "    idx = find(strB, 'A')\n",
        "    a,b,s = two_qub_meas(strMu[idx[0]], strMu[idx[1]], 'A')\n",
        "    out = out + a + b\n",
        "    sign = sign*s\n",
        "  if ('C' in strB):\n",
        "    idx = find(strB, 'C')\n",
        "    a,b,s = two_qub_meas(strMu[idx[0]], strMu[idx[1]], 'C')\n",
        "    out = out + a + b\n",
        "    sign = sign*s\n",
        "  if ('E' in strB):\n",
        "    idx = find(strB, 'E')\n",
        "    a,b,s = two_qub_meas(strMu[idx[0]], strMu[idx[1]], 'E')\n",
        "    out = out + a + b\n",
        "    sign = sign*s\n",
        "  if ('B' in strB):\n",
        "    idx = find(strB, 'B')\n",
        "    a,b,s = two_qub_meas(strMu[idx[0]], strMu[idx[1]], 'B')\n",
        "    out = out + a + b\n",
        "    sign = sign*s\n",
        "  if ('D' in strB):\n",
        "    idx = find(strB, 'D')\n",
        "    a,b,s = two_qub_meas(strMu[idx[0]], strMu[idx[1]], 'D')\n",
        "    out = out + a + b\n",
        "    sign = sign*s\n",
        "  if ('F' in strB):\n",
        "    idx = find(strB, 'F')\n",
        "    a,b,s = two_qub_meas(strMu[idx[0]], strMu[idx[1]], 'F')\n",
        "    out = out + a + b\n",
        "    sign = sign*s\n",
        "  if ('X' in strB):\n",
        "    idx = find(strB, 'X')\n",
        "    for i in idx:\n",
        "      v,s = single_qub_meas(strMu[i], 'X')\n",
        "      out = out+ v\n",
        "      sign = sign*s\n",
        "  if ('Y' in strB):\n",
        "    idx = find(strB, 'Y')\n",
        "    for i in idx:\n",
        "      v,s = single_qub_meas(strMu[i], 'Y')\n",
        "      out = out+ v\n",
        "      sign = sign*s\n",
        "  if ('I' in strB):\n",
        "    idx = find(strB, 'I')\n",
        "    for i in idx:\n",
        "      v,s = single_qub_meas(strMu[i], 'I')\n",
        "      out = out+ v\n",
        "      sign = sign*s\n",
        "  if out in z_basis:\n",
        "    return sign\n",
        "  else:\n",
        "    return 0"
      ],
      "execution_count": 82,
      "outputs": []
    },
    {
      "cell_type": "code",
      "metadata": {
        "id": "-ZpIeDf6Wiak",
        "outputId": "e20d95e6-925e-4fdc-8901-690f70c73598",
        "colab": {
          "base_uri": "https://localhost:8080/"
        }
      },
      "source": [
        "A = np.zeros((len(final_arr),len(mu)))\n",
        "\n",
        "for i in range(len(final_arr)):\n",
        "  for j in range(len(mu)):\n",
        "    A[i,j] = value(final_arr[i], mu[j])\n",
        "\n",
        "print(A)"
      ],
      "execution_count": 83,
      "outputs": [
        {
          "output_type": "stream",
          "text": [
            "[[ 1.  0.  0.  0.  0. -1.  0.  0.  0.  0.  1.  0.  0.  0.  0.  1.]\n",
            " [ 1.  0.  0.  0.  0.  0. -1.  0.  0. -1.  0.  0.  0.  0.  0.  1.]\n",
            " [ 1.  0.  0.  1.  0.  0.  0.  0.  0.  0.  0.  0.  1.  0.  0.  1.]\n",
            " [ 1.  0.  1.  0.  0.  0.  0.  0.  0.  0.  0.  0.  1.  0.  1.  0.]\n",
            " [ 1. -1.  0.  0.  0.  0.  0.  0.  0.  0.  0.  0.  1. -1.  0.  0.]\n",
            " [ 1.  0.  0.  1.  0.  0.  0.  0.  1.  0.  0.  1.  0.  0.  0.  0.]\n",
            " [ 1.  0.  1.  0.  0.  0.  0.  0.  1.  0.  1.  0.  0.  0.  0.  0.]\n",
            " [ 1. -1.  0.  0.  0.  0.  0.  0.  1. -1.  0.  0.  0.  0.  0.  0.]\n",
            " [ 1.  0.  0.  1. -1.  0.  0. -1.  0.  0.  0.  0.  0.  0.  0.  0.]\n",
            " [ 1.  0.  1.  0. -1.  0. -1.  0.  0.  0.  0.  0.  0.  0.  0.  0.]\n",
            " [ 1. -1.  0.  0. -1.  1.  0.  0.  0.  0.  0.  0.  0.  0.  0.  0.]]\n"
          ],
          "name": "stdout"
        }
      ]
    },
    {
      "cell_type": "code",
      "metadata": {
        "id": "LK0kuvgfWiOT",
        "outputId": "68218a9a-911b-49f4-c4a0-c82e8815ace5",
        "colab": {
          "base_uri": "https://localhost:8080/"
        }
      },
      "source": [
        "print (mu)"
      ],
      "execution_count": 84,
      "outputs": [
        {
          "output_type": "stream",
          "text": [
            "['II', 'IX', 'IY', 'IZ', 'XI', 'XX', 'XY', 'XZ', 'YI', 'YX', 'YY', 'YZ', 'ZI', 'ZX', 'ZY', 'ZZ']\n"
          ],
          "name": "stdout"
        }
      ]
    },
    {
      "cell_type": "code",
      "metadata": {
        "id": "4es_ymEl2LIQ",
        "outputId": "4aedf58f-3a2d-468b-e756-a10a6d2444b3",
        "colab": {
          "base_uri": "https://localhost:8080/"
        }
      },
      "source": [
        "print(final_arr)"
      ],
      "execution_count": 85,
      "outputs": [
        {
          "output_type": "stream",
          "text": [
            "['AA', 'BB', 'II', 'IX', 'IY', 'XI', 'XX', 'XY', 'YI', 'YX', 'YY']\n"
          ],
          "name": "stdout"
        }
      ]
    },
    {
      "cell_type": "code",
      "metadata": {
        "id": "D48-tP752OS5"
      },
      "source": [
        "# If using this on Google collab, we need to install the packages\n",
        "try:\n",
        "  import google.colab\n",
        "  IN_COLAB = True\n",
        "except:\n",
        "  IN_COLAB = False\n",
        "\n",
        "# Let's start with Pyomo\n",
        "if IN_COLAB:\n",
        "    !pip install -q pyomo"
      ],
      "execution_count": null,
      "outputs": []
    },
    {
      "cell_type": "code",
      "metadata": {
        "id": "WYXtmk7_MG_M"
      },
      "source": [
        ""
      ],
      "execution_count": null,
      "outputs": []
    },
    {
      "cell_type": "code",
      "metadata": {
        "id": "_Bj_FyKxMG8B"
      },
      "source": [
        ""
      ],
      "execution_count": null,
      "outputs": []
    },
    {
      "cell_type": "code",
      "metadata": {
        "id": "ZgU5JF3nMG57"
      },
      "source": [
        ""
      ],
      "execution_count": null,
      "outputs": []
    },
    {
      "cell_type": "code",
      "metadata": {
        "id": "pXXWoZxrMG2T"
      },
      "source": [
        ""
      ],
      "execution_count": null,
      "outputs": []
    },
    {
      "cell_type": "code",
      "metadata": {
        "id": "Bj_QWkzNMGym"
      },
      "source": [
        ""
      ],
      "execution_count": null,
      "outputs": []
    },
    {
      "cell_type": "code",
      "metadata": {
        "id": "jcyhlBTPMGYU"
      },
      "source": [
        ""
      ],
      "execution_count": null,
      "outputs": []
    }
  ]
}